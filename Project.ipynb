{
 "cells": [
  {
   "cell_type": "code",
   "execution_count": 25,
   "metadata": {},
   "outputs": [
    {
     "name": "stdout",
     "output_type": "stream",
     "text": [
      "Populating the interactive namespace from numpy and matplotlib\n"
     ]
    },
    {
     "name": "stderr",
     "output_type": "stream",
     "text": [
      "C:\\ProgramData\\Anaconda3\\lib\\site-packages\\IPython\\core\\magics\\pylab.py:159: UserWarning: pylab import has clobbered these variables: ['datetime']\n",
      "`%matplotlib` prevents importing * from pylab and numpy\n",
      "  warn(\"pylab import has clobbered these variables: %s\"  % clobbered +\n"
     ]
    }
   ],
   "source": [
    "from pandas import Series, DataFrame\n",
    "import pandas as pd\n",
    "%pylab inline\n",
    "from datetime import datetime\n",
    "import re"
   ]
  },
  {
   "cell_type": "code",
   "execution_count": null,
   "metadata": {},
   "outputs": [],
   "source": [
    "# State wise % of Fully vaccinated and 1 dose."
   ]
  },
  {
   "cell_type": "code",
   "execution_count": null,
   "metadata": {},
   "outputs": [],
   "source": []
  },
  {
   "cell_type": "code",
   "execution_count": null,
   "metadata": {},
   "outputs": [],
   "source": []
  },
  {
   "cell_type": "code",
   "execution_count": null,
   "metadata": {},
   "outputs": [],
   "source": []
  },
  {
   "cell_type": "code",
   "execution_count": null,
   "metadata": {},
   "outputs": [],
   "source": []
  },
  {
   "cell_type": "code",
   "execution_count": null,
   "metadata": {},
   "outputs": [],
   "source": []
  },
  {
   "cell_type": "code",
   "execution_count": 2,
   "metadata": {},
   "outputs": [],
   "source": [
    "df = pd.read_csv('COVID-19_Vaccinations_in_the_United_States_Jurisdiction.csv',dtype=str,keep_default_na=False)"
   ]
  },
  {
   "cell_type": "code",
   "execution_count": 3,
   "metadata": {},
   "outputs": [
    {
     "data": {
      "text/html": [
       "<div>\n",
       "<style scoped>\n",
       "    .dataframe tbody tr th:only-of-type {\n",
       "        vertical-align: middle;\n",
       "    }\n",
       "\n",
       "    .dataframe tbody tr th {\n",
       "        vertical-align: top;\n",
       "    }\n",
       "\n",
       "    .dataframe thead th {\n",
       "        text-align: right;\n",
       "    }\n",
       "</style>\n",
       "<table border=\"1\" class=\"dataframe\">\n",
       "  <thead>\n",
       "    <tr style=\"text-align: right;\">\n",
       "      <th></th>\n",
       "      <th>MMWR_week</th>\n",
       "      <th>Location</th>\n",
       "      <th>Distributed</th>\n",
       "      <th>Distributed_Janssen</th>\n",
       "      <th>Distributed_Moderna</th>\n",
       "      <th>Distributed_Pfizer</th>\n",
       "      <th>Distributed_Unk_Manuf</th>\n",
       "      <th>Dist_Per_100K</th>\n",
       "      <th>Distributed_Per_100k_12Plus</th>\n",
       "      <th>Distributed_Per_100k_18Plus</th>\n",
       "      <th>...</th>\n",
       "      <th>Series_Complete_Pfizer_18Plus</th>\n",
       "      <th>Series_Complete_Unk_Manuf_18Plus</th>\n",
       "      <th>Series_Complete_Janssen_65Plus</th>\n",
       "      <th>Series_Complete_Moderna_65Plus</th>\n",
       "      <th>Series_Complete_Pfizer_65Plus</th>\n",
       "      <th>Series_Complete_Unk_Manuf_65Plus</th>\n",
       "      <th>Series_Complete_FedLTC</th>\n",
       "      <th>Series_Complete_FedLTC_Residents</th>\n",
       "      <th>Series_Complete_FedLTC_Staff</th>\n",
       "      <th>Series_Complete_FedLTC_Unknown</th>\n",
       "    </tr>\n",
       "    <tr>\n",
       "      <th>Date</th>\n",
       "      <th></th>\n",
       "      <th></th>\n",
       "      <th></th>\n",
       "      <th></th>\n",
       "      <th></th>\n",
       "      <th></th>\n",
       "      <th></th>\n",
       "      <th></th>\n",
       "      <th></th>\n",
       "      <th></th>\n",
       "      <th></th>\n",
       "      <th></th>\n",
       "      <th></th>\n",
       "      <th></th>\n",
       "      <th></th>\n",
       "      <th></th>\n",
       "      <th></th>\n",
       "      <th></th>\n",
       "      <th></th>\n",
       "      <th></th>\n",
       "      <th></th>\n",
       "    </tr>\n",
       "  </thead>\n",
       "  <tbody>\n",
       "    <tr>\n",
       "      <th>2021-08-02</th>\n",
       "      <td>31</td>\n",
       "      <td>RP</td>\n",
       "      <td>28,650</td>\n",
       "      <td>3,800</td>\n",
       "      <td>20,800</td>\n",
       "      <td>4,050</td>\n",
       "      <td>0</td>\n",
       "      <td>159,993</td>\n",
       "      <td>187,353</td>\n",
       "      <td>205,421</td>\n",
       "      <td>...</td>\n",
       "      <td>30</td>\n",
       "      <td>0</td>\n",
       "      <td>215</td>\n",
       "      <td>1,454</td>\n",
       "      <td>9</td>\n",
       "      <td>0</td>\n",
       "      <td>0</td>\n",
       "      <td>0</td>\n",
       "      <td>0</td>\n",
       "      <td>0</td>\n",
       "    </tr>\n",
       "    <tr>\n",
       "      <th>2021-08-02</th>\n",
       "      <td>31</td>\n",
       "      <td>SD</td>\n",
       "      <td>996,865</td>\n",
       "      <td>59,400</td>\n",
       "      <td>443,320</td>\n",
       "      <td>494,145</td>\n",
       "      <td>0</td>\n",
       "      <td>112,684</td>\n",
       "      <td>135,058</td>\n",
       "      <td>149,330</td>\n",
       "      <td>...</td>\n",
       "      <td>196,538</td>\n",
       "      <td>18</td>\n",
       "      <td>3,962</td>\n",
       "      <td>67,607</td>\n",
       "      <td>59,818</td>\n",
       "      <td>11</td>\n",
       "      <td>5,271</td>\n",
       "      <td>3,115</td>\n",
       "      <td>736</td>\n",
       "      <td>1,420</td>\n",
       "    </tr>\n",
       "    <tr>\n",
       "      <th>2021-08-02</th>\n",
       "      <td>31</td>\n",
       "      <td>VA</td>\n",
       "      <td>10,839,065</td>\n",
       "      <td>545,400</td>\n",
       "      <td>4,243,460</td>\n",
       "      <td>6,050,205</td>\n",
       "      <td>0</td>\n",
       "      <td>126,988</td>\n",
       "      <td>148,339</td>\n",
       "      <td>162,391</td>\n",
       "      <td>...</td>\n",
       "      <td>2,333,572</td>\n",
       "      <td>865</td>\n",
       "      <td>63,897</td>\n",
       "      <td>532,408</td>\n",
       "      <td>522,595</td>\n",
       "      <td>498</td>\n",
       "      <td>88,490</td>\n",
       "      <td>45,714</td>\n",
       "      <td>32,871</td>\n",
       "      <td>9,905</td>\n",
       "    </tr>\n",
       "    <tr>\n",
       "      <th>2021-08-02</th>\n",
       "      <td>31</td>\n",
       "      <td>KS</td>\n",
       "      <td>3,248,875</td>\n",
       "      <td>173,500</td>\n",
       "      <td>1,409,820</td>\n",
       "      <td>1,665,555</td>\n",
       "      <td>0</td>\n",
       "      <td>111,518</td>\n",
       "      <td>132,515</td>\n",
       "      <td>146,804</td>\n",
       "      <td>...</td>\n",
       "      <td>636,975</td>\n",
       "      <td>291</td>\n",
       "      <td>15,706</td>\n",
       "      <td>186,069</td>\n",
       "      <td>183,913</td>\n",
       "      <td>154</td>\n",
       "      <td>38,974</td>\n",
       "      <td>20,959</td>\n",
       "      <td>11,135</td>\n",
       "      <td>6,880</td>\n",
       "    </tr>\n",
       "    <tr>\n",
       "      <th>2021-08-02</th>\n",
       "      <td>31</td>\n",
       "      <td>MS</td>\n",
       "      <td>2,866,005</td>\n",
       "      <td>164,600</td>\n",
       "      <td>1,258,240</td>\n",
       "      <td>1,443,165</td>\n",
       "      <td>0</td>\n",
       "      <td>96,299</td>\n",
       "      <td>113,666</td>\n",
       "      <td>125,836</td>\n",
       "      <td>...</td>\n",
       "      <td>495,603</td>\n",
       "      <td>137</td>\n",
       "      <td>15,383</td>\n",
       "      <td>184,275</td>\n",
       "      <td>153,963</td>\n",
       "      <td>61</td>\n",
       "      <td>22,390</td>\n",
       "      <td>11,688</td>\n",
       "      <td>5,176</td>\n",
       "      <td>5,526</td>\n",
       "    </tr>\n",
       "  </tbody>\n",
       "</table>\n",
       "<p>5 rows × 68 columns</p>\n",
       "</div>"
      ],
      "text/plain": [
       "           MMWR_week Location Distributed Distributed_Janssen  \\\n",
       "Date                                                            \n",
       "2021-08-02        31       RP      28,650               3,800   \n",
       "2021-08-02        31       SD     996,865              59,400   \n",
       "2021-08-02        31       VA  10,839,065             545,400   \n",
       "2021-08-02        31       KS   3,248,875             173,500   \n",
       "2021-08-02        31       MS   2,866,005             164,600   \n",
       "\n",
       "           Distributed_Moderna Distributed_Pfizer Distributed_Unk_Manuf  \\\n",
       "Date                                                                      \n",
       "2021-08-02              20,800              4,050                     0   \n",
       "2021-08-02             443,320            494,145                     0   \n",
       "2021-08-02           4,243,460          6,050,205                     0   \n",
       "2021-08-02           1,409,820          1,665,555                     0   \n",
       "2021-08-02           1,258,240          1,443,165                     0   \n",
       "\n",
       "           Dist_Per_100K Distributed_Per_100k_12Plus  \\\n",
       "Date                                                   \n",
       "2021-08-02       159,993                     187,353   \n",
       "2021-08-02       112,684                     135,058   \n",
       "2021-08-02       126,988                     148,339   \n",
       "2021-08-02       111,518                     132,515   \n",
       "2021-08-02        96,299                     113,666   \n",
       "\n",
       "           Distributed_Per_100k_18Plus  ... Series_Complete_Pfizer_18Plus  \\\n",
       "Date                                    ...                                 \n",
       "2021-08-02                     205,421  ...                            30   \n",
       "2021-08-02                     149,330  ...                       196,538   \n",
       "2021-08-02                     162,391  ...                     2,333,572   \n",
       "2021-08-02                     146,804  ...                       636,975   \n",
       "2021-08-02                     125,836  ...                       495,603   \n",
       "\n",
       "           Series_Complete_Unk_Manuf_18Plus Series_Complete_Janssen_65Plus  \\\n",
       "Date                                                                         \n",
       "2021-08-02                                0                            215   \n",
       "2021-08-02                               18                          3,962   \n",
       "2021-08-02                              865                         63,897   \n",
       "2021-08-02                              291                         15,706   \n",
       "2021-08-02                              137                         15,383   \n",
       "\n",
       "           Series_Complete_Moderna_65Plus Series_Complete_Pfizer_65Plus  \\\n",
       "Date                                                                      \n",
       "2021-08-02                          1,454                             9   \n",
       "2021-08-02                         67,607                        59,818   \n",
       "2021-08-02                        532,408                       522,595   \n",
       "2021-08-02                        186,069                       183,913   \n",
       "2021-08-02                        184,275                       153,963   \n",
       "\n",
       "           Series_Complete_Unk_Manuf_65Plus Series_Complete_FedLTC  \\\n",
       "Date                                                                 \n",
       "2021-08-02                                0                      0   \n",
       "2021-08-02                               11                  5,271   \n",
       "2021-08-02                              498                 88,490   \n",
       "2021-08-02                              154                 38,974   \n",
       "2021-08-02                               61                 22,390   \n",
       "\n",
       "           Series_Complete_FedLTC_Residents Series_Complete_FedLTC_Staff  \\\n",
       "Date                                                                       \n",
       "2021-08-02                                0                            0   \n",
       "2021-08-02                            3,115                          736   \n",
       "2021-08-02                           45,714                       32,871   \n",
       "2021-08-02                           20,959                       11,135   \n",
       "2021-08-02                           11,688                        5,176   \n",
       "\n",
       "           Series_Complete_FedLTC_Unknown  \n",
       "Date                                       \n",
       "2021-08-02                              0  \n",
       "2021-08-02                          1,420  \n",
       "2021-08-02                          9,905  \n",
       "2021-08-02                          6,880  \n",
       "2021-08-02                          5,526  \n",
       "\n",
       "[5 rows x 68 columns]"
      ]
     },
     "execution_count": 3,
     "metadata": {},
     "output_type": "execute_result"
    }
   ],
   "source": [
    "df['Date'] = pd.to_datetime(df['Date'])\n",
    "\n",
    "df.set_index('Date', inplace=True)\n",
    "df[:5]"
   ]
  },
  {
   "cell_type": "code",
   "execution_count": 4,
   "metadata": {},
   "outputs": [],
   "source": [
    "df = df[df.index == '2021-07-31']"
   ]
  },
  {
   "cell_type": "code",
   "execution_count": 5,
   "metadata": {},
   "outputs": [],
   "source": [
    "#Admin_Per_100K\tAdmin_Per_100k_12Plus\tAdmin_Per_100k_18Plus\tAdmin_Per_100k_65Plus\n",
    "#Administered\n",
    "#Distributed Dist_Per_100K"
   ]
  },
  {
   "cell_type": "code",
   "execution_count": 6,
   "metadata": {},
   "outputs": [],
   "source": [
    "df = df[['Location','Distributed','Dist_Per_100K','Administered','Admin_Per_100K','Admin_Per_100k_12Plus','Admin_Per_100k_18Plus','Admin_Per_100k_65Plus']]"
   ]
  },
  {
   "cell_type": "code",
   "execution_count": 7,
   "metadata": {},
   "outputs": [],
   "source": [
    "# Removing ',' and converting to interger\n",
    "df2 = df[['Distributed','Dist_Per_100K','Administered','Admin_Per_100K','Admin_Per_100k_12Plus','Admin_Per_100k_18Plus','Admin_Per_100k_65Plus']].replace(',','', regex=True)\n",
    "df2 = df2[['Distributed','Dist_Per_100K','Administered','Admin_Per_100K','Admin_Per_100k_12Plus','Admin_Per_100k_18Plus','Admin_Per_100k_65Plus']].astype('int')\n",
    "df2['Location'] = df['Location']\n",
    "df = df2"
   ]
  },
  {
   "cell_type": "code",
   "execution_count": 8,
   "metadata": {},
   "outputs": [],
   "source": [
    "us_state_abbrev = {\n",
    "    'Alabama': 'AL',\n",
    "    'Alaska': 'AK',\n",
    "    'American Samoa': 'AS',\n",
    "    'Arizona': 'AZ',\n",
    "    'Arkansas': 'AR',\n",
    "    'California': 'CA',\n",
    "    'Colorado': 'CO',\n",
    "    'Connecticut': 'CT',\n",
    "    'Delaware': 'DE',\n",
    "    'District of Columbia': 'DC',\n",
    "    'Florida': 'FL',\n",
    "    'Georgia': 'GA',\n",
    "    'Guam': 'GU',\n",
    "    'Hawaii': 'HI',\n",
    "    'Idaho': 'ID',\n",
    "    'Illinois': 'IL',\n",
    "    'Indiana': 'IN',\n",
    "    'Iowa': 'IA',\n",
    "    'Kansas': 'KS',\n",
    "    'Kentucky': 'KY',\n",
    "    'Louisiana': 'LA',\n",
    "    'Maine': 'ME',\n",
    "    'Maryland': 'MD',\n",
    "    'Massachusetts': 'MA',\n",
    "    'Michigan': 'MI',\n",
    "    'Minnesota': 'MN',\n",
    "    'Mississippi': 'MS',\n",
    "    'Missouri': 'MO',\n",
    "    'Montana': 'MT',\n",
    "    'Nebraska': 'NE',\n",
    "    'Nevada': 'NV',\n",
    "    'New Hampshire': 'NH',\n",
    "    'New Jersey': 'NJ',\n",
    "    'New Mexico': 'NM',\n",
    "    'New York': 'NY',\n",
    "    'North Carolina': 'NC',\n",
    "    'North Dakota': 'ND',\n",
    "    'Northern Mariana Islands':'MP',\n",
    "    'Ohio': 'OH',\n",
    "    'Oklahoma': 'OK',\n",
    "    'Oregon': 'OR',\n",
    "    'Pennsylvania': 'PA',\n",
    "    'Puerto Rico': 'PR',\n",
    "    'Rhode Island': 'RI',\n",
    "    'South Carolina': 'SC',\n",
    "    'South Dakota': 'SD',\n",
    "    'Tennessee': 'TN',\n",
    "    'Texas': 'TX',\n",
    "    'Utah': 'UT',\n",
    "    'Vermont': 'VT',\n",
    "    'Virgin Islands': 'VI',\n",
    "    'Virginia': 'VA',\n",
    "    'Washington': 'WA',\n",
    "    'West Virginia': 'WV',\n",
    "    'Wisconsin': 'WI',\n",
    "    'Wyoming': 'WY'\n",
    "}\n",
    "\n",
    "def state_us(l):\n",
    "    for item in us_state_abbrev.values():\n",
    "        if l == item:\n",
    "            return 1"
   ]
  },
  {
   "cell_type": "code",
   "execution_count": 9,
   "metadata": {},
   "outputs": [],
   "source": [
    "df['state'] = df['Location'].map(state_us)\n",
    "df = df[df['state'] == 1]"
   ]
  },
  {
   "cell_type": "code",
   "execution_count": 10,
   "metadata": {},
   "outputs": [],
   "source": [
    "# Filtering\n",
    "df = df[ (df['Distributed'] > 0) & (df['Admin_Per_100K'] != 0) ]"
   ]
  },
  {
   "cell_type": "code",
   "execution_count": 11,
   "metadata": {},
   "outputs": [],
   "source": [
    "# Plots"
   ]
  },
  {
   "cell_type": "code",
   "execution_count": 12,
   "metadata": {},
   "outputs": [],
   "source": [
    "#distribution"
   ]
  },
  {
   "cell_type": "code",
   "execution_count": 13,
   "metadata": {},
   "outputs": [
    {
     "data": {
      "image/png": "[encoded data removed]",
      "text/plain": [
       "<Figure size 432x288 with 1 Axes>"
      ]
     },
     "metadata": {
      "needs_background": "light"
     },
     "output_type": "display_data"
    }
   ],
   "source": [
    "df_top_10_distributed = df.sort_values(by='Dist_Per_100K', ascending = False)[:10]\n",
    "\n",
    "plot(df_top_10_distributed['Location'], df_top_10_distributed['Dist_Per_100K'], marker='o', linestyle='None', label='Distributed per 100k',color = 'blue')\n",
    "xlabel('State')\n",
    "ylabel('Distributed per 100k')\n",
    "legend(numpoints=1, loc='best')\n",
    "show()"
   ]
  },
  {
   "cell_type": "code",
   "execution_count": 14,
   "metadata": {},
   "outputs": [
    {
     "data": {
      "image/png": "[encoded data removed]",
      "text/plain": [
       "<Figure size 432x288 with 1 Axes>"
      ]
     },
     "metadata": {
      "needs_background": "light"
     },
     "output_type": "display_data"
    }
   ],
   "source": [
    "df_bottom_10_distributed = df.sort_values(by='Dist_Per_100K', ascending = True)[:10]\n",
    "\n",
    "plot(df_bottom_10_distributed['Location'], df_bottom_10_distributed['Dist_Per_100K'], marker='o', linestyle='None', label='Distributed per 100k',color = 'blue')\n",
    "xlabel('State')\n",
    "ylabel('Distributed per 100k')\n",
    "legend(numpoints=1, loc='best')\n",
    "show()"
   ]
  },
  {
   "cell_type": "code",
   "execution_count": null,
   "metadata": {},
   "outputs": [],
   "source": []
  },
  {
   "cell_type": "code",
   "execution_count": 15,
   "metadata": {},
   "outputs": [],
   "source": [
    "#Administered"
   ]
  },
  {
   "cell_type": "code",
   "execution_count": 16,
   "metadata": {},
   "outputs": [
    {
     "data": {
      "image/png": "[encoded data removed]",
      "text/plain": [
       "<Figure size 432x288 with 1 Axes>"
      ]
     },
     "metadata": {
      "needs_background": "light"
     },
     "output_type": "display_data"
    }
   ],
   "source": [
    "df_top_10_admin = df.sort_values(by='Admin_Per_100K', ascending = False)[:10]\n",
    "\n",
    "plot(df_top_10_admin['Location'], df_top_10_admin['Admin_Per_100K'], marker='o', linestyle='None', label='Administered per 100k',color = 'blue')\n",
    "xlabel('State')\n",
    "ylabel('Admin per 100k')\n",
    "legend(numpoints=1, loc='best')\n",
    "show()"
   ]
  },
  {
   "cell_type": "code",
   "execution_count": 17,
   "metadata": {},
   "outputs": [
    {
     "data": {
      "image/png": "[encoded data removed]",
      "text/plain": [
       "<Figure size 432x288 with 1 Axes>"
      ]
     },
     "metadata": {
      "needs_background": "light"
     },
     "output_type": "display_data"
    }
   ],
   "source": [
    "df_bottom_10_admin = df.sort_values(by='Admin_Per_100K', ascending = True)[:10]\n",
    "\n",
    "plot(df_bottom_10_admin['Location'], df_bottom_10_admin['Admin_Per_100K'], marker='o', linestyle='None', label='Administered per 100k',color = 'blue')\n",
    "xlabel('State')\n",
    "ylabel('Admin per 100k')\n",
    "legend(numpoints=1, loc='best')\n",
    "show()"
   ]
  },
  {
   "cell_type": "code",
   "execution_count": null,
   "metadata": {},
   "outputs": [],
   "source": []
  },
  {
   "cell_type": "code",
   "execution_count": 18,
   "metadata": {},
   "outputs": [],
   "source": [
    "# Dist - Admin"
   ]
  },
  {
   "cell_type": "code",
   "execution_count": 19,
   "metadata": {},
   "outputs": [
    {
     "data": {
      "image/png": "[encoded data removed]",
      "text/plain": [
       "<Figure size 432x288 with 1 Axes>"
      ]
     },
     "metadata": {
      "needs_background": "light"
     },
     "output_type": "display_data"
    }
   ],
   "source": [
    "df['Lag'] = df['Dist_Per_100K'] - df['Admin_Per_100K']\n",
    "\n",
    "df_top_10_lag = df.sort_values(by='Lag', ascending = False)[:10]\n",
    "\n",
    "plot(df_top_10_lag['Location'], df_top_10_lag['Lag'], marker='o', linestyle='None', label='Lag in Admin',color = 'blue')\n",
    "xlabel('State')\n",
    "ylabel('Lag per 100k')\n",
    "legend(numpoints=1, loc='best')\n",
    "show()"
   ]
  },
  {
   "cell_type": "code",
   "execution_count": 20,
   "metadata": {},
   "outputs": [
    {
     "data": {
      "text/plain": [
       "Date\n",
       "2021-07-31    15420\n",
       "2021-07-31    32075\n",
       "2021-07-31    21511\n",
       "2021-07-31    -1805\n",
       "2021-07-31     9115\n",
       "2021-07-31    18513\n",
       "2021-07-31    11163\n",
       "2021-07-31    26130\n",
       "2021-07-31     9768\n",
       "2021-07-31    22407\n",
       "2021-07-31    11726\n",
       "2021-07-31    27312\n",
       "2021-07-31    21197\n",
       "2021-07-31    14584\n",
       "2021-07-31    23623\n",
       "2021-07-31    24057\n",
       "2021-07-31     3957\n",
       "2021-07-31    23625\n",
       "2021-07-31    19394\n",
       "2021-07-31    22879\n",
       "2021-07-31    25591\n",
       "2021-07-31     9677\n",
       "2021-07-31    15159\n",
       "2021-07-31     7908\n",
       "2021-07-31    20017\n",
       "2021-07-31    22258\n",
       "2021-07-31    15357\n",
       "2021-07-31    12593\n",
       "2021-07-31    11373\n",
       "2021-07-31    18747\n",
       "2021-07-31    14232\n",
       "2021-07-31    14267\n",
       "2021-07-31     7433\n",
       "2021-07-31    19240\n",
       "2021-07-31    13580\n",
       "2021-07-31    26885\n",
       "2021-07-31    13716\n",
       "2021-07-31    14392\n",
       "2021-07-31    27560\n",
       "2021-07-31    14324\n",
       "2021-07-31     9802\n",
       "2021-07-31    20308\n",
       "2021-07-31    13723\n",
       "2021-07-31    11460\n",
       "2021-07-31    11451\n",
       "2021-07-31    12444\n",
       "2021-07-31    27114\n",
       "2021-07-31    19357\n",
       "2021-07-31     6937\n",
       "2021-07-31    17657\n",
       "2021-07-31    17713\n",
       "2021-07-31    12369\n",
       "2021-07-31    24680\n",
       "2021-07-31    21176\n",
       "2021-07-31    16462\n",
       "2021-07-31    14879\n",
       "Name: Lag, dtype: int32"
      ]
     },
     "execution_count": 20,
     "metadata": {},
     "output_type": "execute_result"
    }
   ],
   "source": [
    "df['Lag'] "
   ]
  },
  {
   "cell_type": "code",
   "execution_count": null,
   "metadata": {},
   "outputs": [],
   "source": []
  },
  {
   "cell_type": "code",
   "execution_count": 21,
   "metadata": {},
   "outputs": [],
   "source": [
    "# Amoung Age Group"
   ]
  },
  {
   "cell_type": "code",
   "execution_count": 22,
   "metadata": {},
   "outputs": [
    {
     "data": {
      "text/plain": [
       "<AxesSubplot:>"
      ]
     },
     "execution_count": 22,
     "metadata": {},
     "output_type": "execute_result"
    },
    {
     "data": {
      "image/png": "[encoded data removed]",
      "text/plain": [
       "<Figure size 432x288 with 1 Axes>"
      ]
     },
     "metadata": {
      "needs_background": "light"
     },
     "output_type": "display_data"
    }
   ],
   "source": [
    "df[['Admin_Per_100k_12Plus','Admin_Per_100k_18Plus','Admin_Per_100k_65Plus']].apply(mean).plot(kind = 'bar')"
   ]
  },
  {
   "cell_type": "code",
   "execution_count": null,
   "metadata": {},
   "outputs": [],
   "source": []
  },
  {
   "cell_type": "code",
   "execution_count": 23,
   "metadata": {},
   "outputs": [],
   "source": [
    "# For 18 Plus"
   ]
  },
  {
   "cell_type": "code",
   "execution_count": 24,
   "metadata": {},
   "outputs": [
    {
     "data": {
      "image/png": "[encoded data removed]",
      "text/plain": [
       "<Figure size 432x288 with 1 Axes>"
      ]
     },
     "metadata": {
      "needs_background": "light"
     },
     "output_type": "display_data"
    }
   ],
   "source": [
    "df_top_10_Admin_Per_100k_18Plus = df.sort_values(by='Admin_Per_100k_18Plus', ascending = False)[:10]\n",
    "\n",
    "plot(df_top_10_Admin_Per_100k_18Plus['Location'], df_top_10_Admin_Per_100k_18Plus['Admin_Per_100k_18Plus'], marker='o', linestyle='None', label='Admin_Per_100k_18Plus',color = 'blue')\n",
    "xlabel('State')\n",
    "ylabel('Admin_Per_100k_18Plus')\n",
    "legend(numpoints=1, loc='best')\n",
    "show()"
   ]
  },
  {
   "cell_type": "code",
   "execution_count": null,
   "metadata": {},
   "outputs": [],
   "source": []
  },
  {
   "cell_type": "code",
   "execution_count": null,
   "metadata": {},
   "outputs": [],
   "source": []
  },
  {
   "cell_type": "code",
   "execution_count": null,
   "metadata": {},
   "outputs": [],
   "source": []
  }
 ],
 "metadata": {
  "kernelspec": {
   "display_name": "Python 3",
   "language": "python",
   "name": "python3"
  },
  "language_info": {
   "codemirror_mode": {
    "name": "ipython",
    "version": 3
   },
   "file_extension": ".py",
   "mimetype": "text/x-python",
   "name": "python",
   "nbconvert_exporter": "python",
   "pygments_lexer": "ipython3",
   "version": "3.8.5"
  }
 },
 "nbformat": 4,
 "nbformat_minor": 4
}
